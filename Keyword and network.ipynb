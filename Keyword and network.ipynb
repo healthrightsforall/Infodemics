{
 "cells": [
  {
   "cell_type": "code",
   "execution_count": 1,
   "metadata": {},
   "outputs": [
    {
     "name": "stdout",
     "output_type": "stream",
     "text": [
      "Requirement already satisfied: networkx in c:\\users\\administrator\\anaconda3\\lib\\site-packages (2.3)\n",
      "Requirement already satisfied: decorator>=4.3.0 in c:\\users\\administrator\\anaconda3\\lib\\site-packages (from networkx) (4.4.0)\n",
      "Requirement already satisfied: googletrans in c:\\users\\administrator\\anaconda3\\lib\\site-packages (4.0.0rc1)\n",
      "Requirement already satisfied: httpx==0.13.3 in c:\\users\\administrator\\anaconda3\\lib\\site-packages (from googletrans) (0.13.3)\n",
      "Requirement already satisfied: idna==2.* in c:\\users\\administrator\\anaconda3\\lib\\site-packages (from httpx==0.13.3->googletrans) (2.8)\n",
      "Requirement already satisfied: httpcore==0.9.* in c:\\users\\administrator\\anaconda3\\lib\\site-packages (from httpx==0.13.3->googletrans) (0.9.1)\n",
      "Requirement already satisfied: hstspreload in c:\\users\\administrator\\anaconda3\\lib\\site-packages (from httpx==0.13.3->googletrans) (2020.12.22)\n",
      "Requirement already satisfied: chardet==3.* in c:\\users\\administrator\\anaconda3\\lib\\site-packages (from httpx==0.13.3->googletrans) (3.0.4)\n",
      "Requirement already satisfied: sniffio in c:\\users\\administrator\\anaconda3\\lib\\site-packages (from httpx==0.13.3->googletrans) (1.2.0)\n",
      "Requirement already satisfied: certifi in c:\\users\\administrator\\anaconda3\\lib\\site-packages (from httpx==0.13.3->googletrans) (2019.9.11)\n",
      "Requirement already satisfied: rfc3986<2,>=1.3 in c:\\users\\administrator\\anaconda3\\lib\\site-packages (from httpx==0.13.3->googletrans) (1.4.0)\n",
      "Requirement already satisfied: h11<0.10,>=0.8 in c:\\users\\administrator\\anaconda3\\lib\\site-packages (from httpcore==0.9.*->httpx==0.13.3->googletrans) (0.9.0)\n",
      "Requirement already satisfied: h2==3.* in c:\\users\\administrator\\anaconda3\\lib\\site-packages (from httpcore==0.9.*->httpx==0.13.3->googletrans) (3.2.0)\n",
      "Requirement already satisfied: hpack<4,>=3.0 in c:\\users\\administrator\\anaconda3\\lib\\site-packages (from h2==3.*->httpcore==0.9.*->httpx==0.13.3->googletrans) (3.0.0)\n",
      "Requirement already satisfied: hyperframe<6,>=5.2.0 in c:\\users\\administrator\\anaconda3\\lib\\site-packages (from h2==3.*->httpcore==0.9.*->httpx==0.13.3->googletrans) (5.2.0)\n"
     ]
    }
   ],
   "source": [
    "import pandas as pd\n",
    "import re\n",
    "import string\n",
    "from vncorenlp import VnCoreNLP\n",
    "!pip install networkx\n",
    "!pip install googletrans\n",
    "from googletrans import Translator\n",
    "import networkx as nx\n",
    "from itertools import combinations\n",
    "import matplotlib.pyplot as plt\n",
    "import nltk\n",
    "from nltk import FreqDist\n",
    "from collections import Counter"
   ]
  },
  {
   "cell_type": "code",
   "execution_count": 24,
   "metadata": {},
   "outputs": [],
   "source": [
    "import pandas as pd\n",
    "# !pip install vncorenlp\n",
    "data = pd.read_excel('data_new.xlsx',index_col=None,na_values=['NA'],usecols=\"B\")\n",
    "sample_data = data[:]"
   ]
  },
  {
   "cell_type": "code",
   "execution_count": 25,
   "metadata": {},
   "outputs": [
    {
     "data": {
      "text/plain": [
       "41675"
      ]
     },
     "execution_count": 25,
     "metadata": {},
     "output_type": "execute_result"
    }
   ],
   "source": [
    "len(sample_data)"
   ]
  },
  {
   "cell_type": "code",
   "execution_count": 3,
   "metadata": {},
   "outputs": [],
   "source": [
    "import io\n",
    "stop_words = [line.strip() for line in open('vietnamese-stopwords.txt','r', encoding =\"utf8\")]\n",
    "stop_words = set([w.lower().replace(' ','_') for w in stop_words])"
   ]
  },
  {
   "cell_type": "code",
   "execution_count": 4,
   "metadata": {},
   "outputs": [],
   "source": [
    "annotator = VnCoreNLP(\"vncore_nlp/VnCoreNLP-1.1.1.jar\", annotators=\"wseg,pos\", max_heap_size='-Xmx4g')"
   ]
  },
  {
   "cell_type": "code",
   "execution_count": 5,
   "metadata": {},
   "outputs": [],
   "source": [
    "WEB_ADDRESS_RE = r'(?i)\\b((?:https?://|www\\d{0,3}[.]|[a-z0-9.\\-]+[.][a-z]{2,4}     /)(?:[^\\s()<>]+|\\(([^\\s()<>]+|(\\([^\\s()<>]+\\)))*\\))+(?:\\(([^\\s()<>]+|(\\([^\\s()<>]+\\)))*\\)|[^\\s`!()\\[\\]{};:\\'\".,<>?«»“”‘’]))'"
   ]
  },
  {
   "cell_type": "code",
   "execution_count": 6,
   "metadata": {},
   "outputs": [],
   "source": [
    "def get_clean_sentences(content):\n",
    "    content = re.sub(WEB_ADDRESS_RE, ' ', content)\n",
    "    content = content.strip().split('\\n')\n",
    "    content = [string for string in content if string != \"\"]\n",
    "    clean_sentences = []\n",
    "    for p in content:\n",
    "        sentences = annotator.annotate(p)['sentences']\n",
    "        for s in sentences:\n",
    "            words = [word['form'].lower() for word in s if word['posTag'].startswith('N')]\n",
    "            words = [w for w in words if w not in string.punctuation and w not in stop_words]\n",
    "            clean_sentences.append(words)\n",
    "    return clean_sentences"
   ]
  },
  {
   "cell_type": "code",
   "execution_count": 28,
   "metadata": {},
   "outputs": [
    {
     "name": "stdout",
     "output_type": "stream",
     "text": [
      "2:49:44.075093\n"
     ]
    }
   ],
   "source": [
    "# clean data\n",
    "start=datetime.now()\n",
    "clean_sentences=[]\n",
    "for _, row in sample_data.iterrows():\n",
    "    clean_sentence = get_clean_sentences(row['content'])\n",
    "    clean_sentences.append(clean_sentence)\n",
    "clean_sentences\n",
    "print(datetime.now()-start)"
   ]
  },
  {
   "cell_type": "code",
   "execution_count": 82,
   "metadata": {},
   "outputs": [
    {
     "name": "stdout",
     "output_type": "stream",
     "text": [
      "0:00:14.059293\n"
     ]
    }
   ],
   "source": [
    "# make list\n",
    "start=datetime.now()\n",
    "words =[]\n",
    "for sentences in clean_sentences:\n",
    "    for sentence in sentences:\n",
    "        words.append(sentence)\n",
    "print(datetime.now()-start)"
   ]
  },
  {
   "cell_type": "code",
   "execution_count": 83,
   "metadata": {},
   "outputs": [
    {
     "name": "stdout",
     "output_type": "stream",
     "text": [
      "0:00:15.982242\n",
      "[('ca', 346804), ('covid-19', 221029), ('bệnh_nhân', 179650), ('y_tế', 110103), ('đà_nẵng', 104364), ('bệnh', 101863), ('dịch', 94724), ('bệnh_viện', 87116), ('việt_nam', 65238), ('trường_hợp', 63474), ('bn', 53331), ('tỉnh', 47321), ('sars-cov', 40158), ('hà_nội', 40128), ('quốc_gia', 38155), ('kết_quả', 34640), ('mỹ', 34186), ('phòng', 33839), ('hiện', 33738), ('cộng_đồng', 31807), ('thế_giới', 31301), ('thành_phố', 31278), ('dịch_bệnh', 30812), ('cơ_sở', 30722), ('tổng_số', 29718), ('mẫu', 29677), ('ban', 29232), ('virus', 27078), ('quảng_nam', 26292), ('nam', 25232), ('người_dân', 24062), ('ảnh', 22741), ('tp', 22186), ('trung_tâm', 21785), ('sức_khoẻ', 21369), ('khu_vực', 21206), ('biện_pháp', 21149), ('hải_dương', 20946), ('huyện', 20248), ('thông_tin', 18987), ('tình_hình', 18688), ('chiều', 18637), ('âm_tính', 18152), ('trung_ương', 17194), ('địa_phương', 16762), ('khẩu_trang', 16568), ('xã_hội', 15828), ('tp.', 15590), ('nhân_viên', 15463), ('chỉ_đạo', 15427)]\n"
     ]
    }
   ],
   "source": [
    "#define most common word\n",
    "from datetime import datetime\n",
    "start=datetime.now()\n",
    "common=[]\n",
    "for sentence in words:\n",
    "    for word in sentence:\n",
    "        common.append(word)\n",
    "most_common = Counter(common).most_common(50)\n",
    "print(datetime.now()-start)\n",
    "# set(list(dict(most_common).keys()))\n",
    "print(most_common)"
   ]
  },
  {
   "cell_type": "code",
   "execution_count": 95,
   "metadata": {},
   "outputs": [
    {
     "name": "stdout",
     "output_type": "stream",
     "text": [
      "('ca', 346804)\n",
      "('covid-19', 221029)\n",
      "('bệnh_nhân', 179650)\n",
      "('y_tế', 110103)\n",
      "('đà_nẵng', 104364)\n",
      "('bệnh', 101863)\n",
      "('dịch', 94724)\n",
      "('bệnh_viện', 87116)\n",
      "('việt_nam', 65238)\n",
      "('trường_hợp', 63474)\n",
      "('bn', 53331)\n",
      "('tỉnh', 47321)\n",
      "('sars-cov', 40158)\n",
      "('hà_nội', 40128)\n",
      "('quốc_gia', 38155)\n",
      "('kết_quả', 34640)\n",
      "('mỹ', 34186)\n",
      "('phòng', 33839)\n",
      "('hiện', 33738)\n",
      "('cộng_đồng', 31807)\n",
      "('thế_giới', 31301)\n",
      "('thành_phố', 31278)\n",
      "('dịch_bệnh', 30812)\n",
      "('cơ_sở', 30722)\n",
      "('tổng_số', 29718)\n",
      "('mẫu', 29677)\n",
      "('ban', 29232)\n",
      "('virus', 27078)\n",
      "('quảng_nam', 26292)\n",
      "('nam', 25232)\n",
      "('người_dân', 24062)\n",
      "('ảnh', 22741)\n",
      "('tp', 22186)\n",
      "('trung_tâm', 21785)\n",
      "('sức_khoẻ', 21369)\n",
      "('khu_vực', 21206)\n",
      "('biện_pháp', 21149)\n",
      "('hải_dương', 20946)\n",
      "('huyện', 20248)\n",
      "('thông_tin', 18987)\n",
      "('tình_hình', 18688)\n",
      "('chiều', 18637)\n",
      "('âm_tính', 18152)\n",
      "('trung_ương', 17194)\n",
      "('địa_phương', 16762)\n",
      "('khẩu_trang', 16568)\n",
      "('xã_hội', 15828)\n",
      "('tp.', 15590)\n",
      "('nhân_viên', 15463)\n",
      "('chỉ_đạo', 15427)\n"
     ]
    }
   ],
   "source": [
    "for j in most_common:\n",
    "    print(j)"
   ]
  },
  {
   "cell_type": "code",
   "execution_count": 90,
   "metadata": {},
   "outputs": [
    {
     "name": "stdout",
     "output_type": "stream",
     "text": [
      "0:03:21.207972\n"
     ]
    }
   ],
   "source": [
    "#count #co-occurences\n",
    "co_occurence_graph = {}\n",
    "start=datetime.now()\n",
    "for word in words:\n",
    "    token_pairs = combinations(word,2)\n",
    "    for u, v in token_pairs:\n",
    "        if u in set(list(dict(most_common).keys())) and v in set(list(dict(most_common).keys())):\n",
    "            if u != v:\n",
    "                if u in co_occurence_graph:\n",
    "                    if v in co_occurence_graph[u]:\n",
    "                        co_occurence_graph[u][v]['weight'] += 1\n",
    "                    else:\n",
    "                        co_occurence_graph[u][v] = {'weight':1}\n",
    "                else:\n",
    "                    co_occurence_graph[u] = {v:{'weight':1}}\n",
    "print(datetime.now()-start)"
   ]
  },
  {
   "cell_type": "code",
   "execution_count": 91,
   "metadata": {},
   "outputs": [],
   "source": [
    "# convert to networkx graph                    \n",
    "co_occurence_graph = nx.from_dict_of_dicts(co_occurence_graph)"
   ]
  },
  {
   "cell_type": "code",
   "execution_count": 92,
   "metadata": {},
   "outputs": [],
   "source": [
    "# run k-core procedure\n",
    "g = nx.k_core(co_occurence_graph,k=5)"
   ]
  },
  {
   "cell_type": "code",
   "execution_count": 43,
   "metadata": {},
   "outputs": [
    {
     "name": "stdout",
     "output_type": "stream",
     "text": [
      "Trans doo quas\n"
     ]
    }
   ],
   "source": [
    "#export to gephi input\n",
    "nx.write_gexf(co_occurence_graph, \"period_all.gexf\")\n",
    "print(\"Trans doo quas\")"
   ]
  },
  {
   "cell_type": "code",
   "execution_count": 93,
   "metadata": {},
   "outputs": [],
   "source": [
    "# export nodes\n",
    "nodes=[]\n",
    "for node in co_occurence_graph.nodes:\n",
    "    nodes.append(node)\n",
    "nodes_all = open(\"nodes.txt\", \"w\",encoding=\"utf8\")\n",
    "for element in nodes:\n",
    "    nodes_all.write(element+'\\n')\n",
    "nodes_all.close()"
   ]
  },
  {
   "cell_type": "code",
   "execution_count": 94,
   "metadata": {},
   "outputs": [],
   "source": [
    "# export edges\n",
    "nx.write_edgelist(co_occurence_graph, \"edges_all.txt\", delimiter=' ', data=['weight'])"
   ]
  },
  {
   "cell_type": "code",
   "execution_count": null,
   "metadata": {},
   "outputs": [],
   "source": []
  },
  {
   "cell_type": "code",
   "execution_count": null,
   "metadata": {},
   "outputs": [],
   "source": []
  },
  {
   "cell_type": "code",
   "execution_count": null,
   "metadata": {},
   "outputs": [],
   "source": []
  }
 ],
 "metadata": {
  "kernelspec": {
   "display_name": "Python 3",
   "language": "python",
   "name": "python3"
  },
  "language_info": {
   "codemirror_mode": {
    "name": "ipython",
    "version": 3
   },
   "file_extension": ".py",
   "mimetype": "text/x-python",
   "name": "python",
   "nbconvert_exporter": "python",
   "pygments_lexer": "ipython3",
   "version": "3.7.4"
  }
 },
 "nbformat": 4,
 "nbformat_minor": 4
}
